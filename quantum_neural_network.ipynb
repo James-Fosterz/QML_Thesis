{
 "cells": [
  {
   "cell_type": "code",
   "execution_count": 1,
   "metadata": {},
   "outputs": [],
   "source": [
    "from qiskit import *\n",
    "from qiskit_machine_learning.utils import algorithm_globals\n",
    "from qiskit_machine_learning.datasets import ad_hoc_data\n",
    "from qiskit.circuit.library import ZZFeatureMap, TwoLocal, RealAmplitudes\n",
    "from qiskit_machine_learning.algorithms import VQC\n",
    "from qiskit_machine_learning.optimizers import COBYLA"
   ]
  },
  {
   "cell_type": "code",
   "execution_count": 2,
   "metadata": {},
   "outputs": [],
   "source": [
    "seed = 100\n",
    "algorithm_globals.random_seed = seed"
   ]
  },
  {
   "cell_type": "code",
   "execution_count": 3,
   "metadata": {},
   "outputs": [],
   "source": [
    "# Use ad hoc data set for training and test data\n",
    "feature_dim = 2  # dimension of each data point\n",
    "training_size = 20\n",
    "test_size = 10"
   ]
  },
  {
   "cell_type": "code",
   "execution_count": 4,
   "metadata": {},
   "outputs": [],
   "source": [
    "# training features, training labels, test features, test labels as np.ndarray,\n",
    "# one hot encoding for labels\n",
    "training_features, training_labels, test_features, test_labels = ad_hoc_data(\n",
    "    training_size=training_size, test_size=test_size, n=feature_dim, gap=0.3\n",
    ")"
   ]
  },
  {
   "cell_type": "code",
   "execution_count": null,
   "metadata": {},
   "outputs": [],
   "source": [
    "map_zz = ZZFeatureMap(feature_dimension=2, reps=1, entanglement=\"linear\")\n",
    "map_zz.decompose().draw(output=\"mpl\", style=\"iqp\")"
   ]
  },
  {
   "cell_type": "code",
   "execution_count": null,
   "metadata": {},
   "outputs": [],
   "source": [
    "amsatz = TwoLocal(map_zz.num_qubits, [\"ry\", \"rz\"], \"cz\", reps=3)\n",
    "amsatz.decompose().draw(output=\"mpl\", style=\"iqp\")"
   ]
  },
  {
   "cell_type": "code",
   "execution_count": 12,
   "metadata": {},
   "outputs": [],
   "source": [
    "from tqdm import tqdm"
   ]
  },
  {
   "cell_type": "code",
   "execution_count": null,
   "metadata": {},
   "outputs": [],
   "source": [
    "test_accuracy = []\n",
    "\n",
    "for i in tqdm(range(10)):\n",
    "    vqc = VQC(\n",
    "        feature_map=map_zz,\n",
    "        ansatz=amsatz,\n",
    "        optimizer=COBYLA(maxiter=100)\n",
    "    )\n",
    "    # Take training features and caluclates label then checks training labels for all data\n",
    "    # Then calcualtes loss fucntion etc...\n",
    "    vqc.fit(training_features, training_labels)\n",
    "\n",
    "    score = vqc.score(test_features, test_labels)\n",
    "    test_accuracy.append(score)"
   ]
  },
  {
   "cell_type": "code",
   "execution_count": null,
   "metadata": {},
   "outputs": [],
   "source": [
    "print(test_accuracy)"
   ]
  },
  {
   "cell_type": "markdown",
   "metadata": {},
   "source": []
  },
  {
   "cell_type": "code",
   "execution_count": null,
   "metadata": {},
   "outputs": [],
   "source": []
  }
 ],
 "metadata": {
  "kernelspec": {
   "display_name": ".venv_qiskit_testing",
   "language": "python",
   "name": ".venv_qiskit_testing"
  },
  "language_info": {
   "codemirror_mode": {
    "name": "ipython",
    "version": 3
   },
   "file_extension": ".py",
   "mimetype": "text/x-python",
   "name": "python",
   "nbconvert_exporter": "python",
   "pygments_lexer": "ipython3",
   "version": "3.10.0"
  }
 },
 "nbformat": 4,
 "nbformat_minor": 2
}
