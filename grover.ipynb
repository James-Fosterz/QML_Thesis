{
 "cells": [
  {
   "cell_type": "code",
   "execution_count": 45,
   "metadata": {},
   "outputs": [],
   "source": [
    "from qiskit import *\n",
    "from qiskit.visualization import plot_histogram, plot_bloch_multivector\n",
    "from qiskit_aer import Aer"
   ]
  },
  {
   "cell_type": "markdown",
   "metadata": {},
   "source": [
    "### Classical Search"
   ]
  },
  {
   "cell_type": "code",
   "execution_count": 2,
   "metadata": {},
   "outputs": [],
   "source": [
    "my_list = [5,4,6,9,1,2,3,7,8,0]"
   ]
  },
  {
   "cell_type": "code",
   "execution_count": 3,
   "metadata": {},
   "outputs": [],
   "source": [
    "def oracle(number):\n",
    "    winning_number = 8\n",
    "\n",
    "    if number == winning_number:\n",
    "        response = True\n",
    "    else:\n",
    "        response = False\n",
    "\n",
    "    return response"
   ]
  },
  {
   "cell_type": "code",
   "execution_count": null,
   "metadata": {},
   "outputs": [],
   "source": [
    "for index, number in enumerate(my_list):\n",
    "    if oracle(number) is True:\n",
    "        print(f\"Winning number index: {index}\")\n",
    "        print(f\"Execution count: {index + 1}\")\n",
    "        break"
   ]
  },
  {
   "cell_type": "markdown",
   "metadata": {},
   "source": [
    "### Quantum Model Grover's Search Algorithm"
   ]
  },
  {
   "cell_type": "code",
   "execution_count": null,
   "metadata": {},
   "outputs": [],
   "source": [
    "# oracle circuit - (winning state 00)+\n",
    "oracle_circuit = QuantumCircuit(2, name=\"Oracle Circuit\")\n",
    "oracle_circuit.x([0,1])\n",
    "oracle_circuit.cz([0], [1])\n",
    "oracle_circuit.x([0,1])\n",
    "oracle_circuit.to_gate() #  creates circuit as a gate you can apply to another ciruit\n",
    "oracle_circuit.draw(output=\"mpl\")"
   ]
  },
  {
   "cell_type": "code",
   "execution_count": null,
   "metadata": {},
   "outputs": [],
   "source": [
    "# oracle circuit - (winning state 11)+\n",
    "\n",
    "oracle_circuit = QuantumCircuit(2, name=\"Oracle Circuit\")\n",
    "oracle_circuit.cz(0,1)\n",
    "oracle_circuit.to_gate() #  creates circuit as a gate you can apply to another ciruit\n",
    "oracle_circuit.draw(output=\"mpl\")"
   ]
  },
  {
   "cell_type": "code",
   "execution_count": null,
   "metadata": {},
   "outputs": [],
   "source": [
    "qreg_q = QuantumRegister(2, 'q')\n",
    "creg_c = ClassicalRegister(2, 'c')\n",
    "main_circuit = QuantumCircuit(qreg_q, creg_c)\n",
    "\n",
    "main_circuit.h(qreg_q[:])\n",
    "main_circuit.append(oracle_circuit, qreg_q[:])"
   ]
  },
  {
   "cell_type": "code",
   "execution_count": null,
   "metadata": {},
   "outputs": [],
   "source": [
    "main_circuit.draw(output=\"mpl\")"
   ]
  },
  {
   "cell_type": "code",
   "execution_count": null,
   "metadata": {},
   "outputs": [],
   "source": [
    "relflection_circuit = QuantumCircuit(2, name=\"Relflection Circuit\")\n",
    "\n",
    "relflection_circuit.h([0,1])\n",
    "relflection_circuit.z([0,1])\n",
    "relflection_circuit.cz(0,1)\n",
    "relflection_circuit.h([0,1])\n",
    "relflection_circuit.to_gate()\n",
    "\n",
    "relflection_circuit.draw(output=\"mpl\")"
   ]
  },
  {
   "cell_type": "code",
   "execution_count": null,
   "metadata": {},
   "outputs": [],
   "source": [
    "main_circuit.append(relflection_circuit, [0,1])\n",
    "main_circuit.measure([0,1],[0,1])\n",
    "main_circuit.draw(output=\"mpl\")"
   ]
  },
  {
   "cell_type": "markdown",
   "metadata": {},
   "source": [
    "### Simulate Results and Statevector"
   ]
  },
  {
   "cell_type": "code",
   "execution_count": 40,
   "metadata": {},
   "outputs": [],
   "source": [
    "qasm_simulator = Aer.get_backend('qasm_simulator')\n",
    "statevector_simulator = Aer.get_backend('statevector_simulator')"
   ]
  },
  {
   "cell_type": "code",
   "execution_count": 41,
   "metadata": {},
   "outputs": [],
   "source": [
    "def run_on_simulators(circuit, shots):\n",
    "    new_circuit = transpile(circuit, statevector_simulator)\n",
    "    statevector_job = statevector_simulator.run(new_circuit, backend=qasm_simulator)\n",
    "    result = statevector_job.result()\n",
    "    statevector = result.get_statevector()\n",
    "\n",
    "    num_qubits = circuit.num_qubits\n",
    "    circuit.measure([i for i in range(num_qubits)], [i for i in range(num_qubits)])\n",
    "\n",
    "    new_circuit = transpile(circuit, qasm_simulator)\n",
    "    qasm_job = qasm_simulator.run(new_circuit, backend=qasm_simulator, shots=shots).result()\n",
    "    counts = qasm_job.get_counts()\n",
    "    \n",
    "    return statevector, counts"
   ]
  },
  {
   "cell_type": "code",
   "execution_count": 42,
   "metadata": {},
   "outputs": [],
   "source": [
    "statevector, counts = run_on_simulators(main_circuit, 1024)"
   ]
  },
  {
   "cell_type": "code",
   "execution_count": null,
   "metadata": {},
   "outputs": [],
   "source": [
    "plot_histogram([counts])"
   ]
  },
  {
   "cell_type": "code",
   "execution_count": null,
   "metadata": {},
   "outputs": [],
   "source": [
    "plot_bloch_multivector(statevector)"
   ]
  },
  {
   "cell_type": "markdown",
   "metadata": {},
   "source": [
    "### Real Quantum Computer"
   ]
  },
  {
   "cell_type": "code",
   "execution_count": 15,
   "metadata": {},
   "outputs": [],
   "source": [
    "from qiskit_ibm_runtime import QiskitRuntimeService"
   ]
  },
  {
   "cell_type": "code",
   "execution_count": null,
   "metadata": {},
   "outputs": [],
   "source": [
    "provider = QiskitRuntimeService(channel=\"ibm_quantum\")\n",
    "provider.backends()"
   ]
  },
  {
   "cell_type": "code",
   "execution_count": null,
   "metadata": {},
   "outputs": [],
   "source": [
    "for backend in provider.backends():\n",
    "    try:\n",
    "        qubit_count = len(backend.properties().qubits)\n",
    "    except:\n",
    "        qubit_count = \"simulated\"\n",
    "\n",
    "    print(f\"{backend.name} : {backend.status().pending_jobs} & {qubit_count} qubits\")"
   ]
  },
  {
   "cell_type": "code",
   "execution_count": 18,
   "metadata": {},
   "outputs": [],
   "source": [
    "from qiskit.transpiler.preset_passmanagers import generate_preset_pass_manager\n",
    "from qiskit_ibm_runtime import SamplerV2 as Sampler"
   ]
  },
  {
   "cell_type": "code",
   "execution_count": 19,
   "metadata": {},
   "outputs": [],
   "source": [
    "provider = QiskitRuntimeService()\n",
    "quantum_computer = provider.backend(\"ibm_kyiv\")\n",
    "pm = generate_preset_pass_manager(backend=quantum_computer, optimization_level=1)\n",
    "isa_circuit = pm.run(main_circuit)\n",
    "sampler = Sampler(quantum_computer)\n",
    "job = sampler.run([isa_circuit])"
   ]
  },
  {
   "cell_type": "code",
   "execution_count": null,
   "metadata": {},
   "outputs": [],
   "source": [
    "job.status()"
   ]
  },
  {
   "cell_type": "code",
   "execution_count": null,
   "metadata": {},
   "outputs": [],
   "source": [
    "result = job.result()\n",
    "plot_histogram([result[0].data.c.get_counts()])"
   ]
  },
  {
   "cell_type": "code",
   "execution_count": null,
   "metadata": {},
   "outputs": [],
   "source": []
  }
 ],
 "metadata": {
  "kernelspec": {
   "display_name": ".venv_qiskit_testing",
   "language": "python",
   "name": ".venv_qiskit_testing"
  },
  "language_info": {
   "codemirror_mode": {
    "name": "ipython",
    "version": 3
   },
   "file_extension": ".py",
   "mimetype": "text/x-python",
   "name": "python",
   "nbconvert_exporter": "python",
   "pygments_lexer": "ipython3",
   "version": "3.10.0"
  }
 },
 "nbformat": 4,
 "nbformat_minor": 2
}
