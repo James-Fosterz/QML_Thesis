{
 "cells": [
  {
   "cell_type": "code",
   "execution_count": 1,
   "metadata": {},
   "outputs": [],
   "source": [
    "from qiskit import *\n",
    "from qiskit.visualization import plot_histogram\n",
    "from qiskit_aer import Aer\n",
    "from qiskit.circuit.library import MCXGate, GroverOperator, MCMT, ZGate"
   ]
  },
  {
   "cell_type": "markdown",
   "metadata": {},
   "source": [
    "### Oracle for marking a state "
   ]
  },
  {
   "cell_type": "code",
   "execution_count": 42,
   "metadata": {},
   "outputs": [],
   "source": [
    "marked_state = \"\""
   ]
  },
  {
   "cell_type": "code",
   "execution_count": 43,
   "metadata": {},
   "outputs": [],
   "source": [
    "def mark_states(marked_states):\n",
    "    if not isinstance(marked_states, list):\n",
    "        marked_states = [marked_states]\n",
    "\n",
    "    # Calculates the number of qubits needed based on the state length\n",
    "    num_qubits = len(marked_states[0])\n",
    "\n",
    "    # Creates the cirucit\n",
    "    oracle_circuit = QuantumCircuit(num_qubits, name=\"Oracle\\n Circuit\")\n",
    "\n",
    "    # Mark each target state in the input list\n",
    "    for target in marked_states:\n",
    "        # Flip target bit-string to match Qiskit bit-ordering\n",
    "        rev_target = target[::-1]\n",
    "        # Identify where if any 0's there are in the marekd state\n",
    "        zero_inds = [ind for ind in range(num_qubits) if rev_target.startswith(\"0\", ind)]\n",
    "        # Apply the apropriate gates base on the binary values order in the marked state\n",
    "        if zero_inds:\n",
    "            oracle_circuit.x(zero_inds)\n",
    "            oracle_circuit.compose(MCMT(ZGate(), num_qubits - 1, 1), inplace=True)\n",
    "            oracle_circuit.x(zero_inds)\n",
    "        else:\n",
    "            oracle_circuit.compose(MCMT(ZGate(), num_qubits - 1, 1), inplace=True)\n",
    "    return oracle_circuit"
   ]
  },
  {
   "cell_type": "code",
   "execution_count": 44,
   "metadata": {},
   "outputs": [],
   "source": [
    "oracle_circuit = mark_states(marked_state)"
   ]
  },
  {
   "cell_type": "code",
   "execution_count": null,
   "metadata": {},
   "outputs": [],
   "source": [
    "oracle_circuit.draw(output=\"mpl\")"
   ]
  },
  {
   "cell_type": "markdown",
   "metadata": {},
   "source": [
    "### Grover's Reflection circuit"
   ]
  },
  {
   "cell_type": "code",
   "execution_count": null,
   "metadata": {},
   "outputs": [],
   "source": [
    "relflection_circuit = QuantumCircuit(3, name=\"Relflection\\n Circuit\")\n",
    "relflection_circuit = GroverOperator(relflection_circuit, name=\"Relflection\\n Circuit\")\n",
    "\n",
    "relflection_circuit.decompose().draw(output=\"mpl\", style=\"iqp\")"
   ]
  },
  {
   "cell_type": "markdown",
   "metadata": {},
   "source": [
    "### Final Cirucit"
   ]
  },
  {
   "cell_type": "code",
   "execution_count": 47,
   "metadata": {},
   "outputs": [],
   "source": [
    "n = len(marked_state)\n",
    "\n",
    "coin_register = QuantumRegister(n, name='coin')\n",
    "position_register = QuantumRegister(n, name='position')\n",
    "classical_register = ClassicalRegister(n,'meas')\n",
    "\n",
    "test_circuit = QuantumCircuit(coin_register, position_register, classical_register)"
   ]
  },
  {
   "cell_type": "code",
   "execution_count": null,
   "metadata": {},
   "outputs": [],
   "source": [
    "test_circuit.h(coin_register[:])\n",
    "test_circuit.h(position_register[:])"
   ]
  },
  {
   "cell_type": "code",
   "execution_count": 49,
   "metadata": {},
   "outputs": [],
   "source": [
    "def take_step(circuit):\n",
    "    circuit.append(oracle_circuit, position_register[:])\n",
    "    circuit.append(relflection_circuit, coin_register[:])\n",
    "    test_circuit.swap(position_register[:],coin_register[:])\n",
    "    return circuit\n"
   ]
  },
  {
   "cell_type": "code",
   "execution_count": null,
   "metadata": {},
   "outputs": [],
   "source": [
    "steps = 2\n",
    "\n",
    "for step in range(steps):\n",
    "    test_circuit = take_step(test_circuit)\n",
    "\n",
    "test_circuit.measure(position_register[:], classical_register[:])"
   ]
  },
  {
   "cell_type": "code",
   "execution_count": null,
   "metadata": {},
   "outputs": [],
   "source": [
    "test_circuit.draw(output=\"mpl\")"
   ]
  },
  {
   "cell_type": "code",
   "execution_count": null,
   "metadata": {},
   "outputs": [],
   "source": [
    "simulator = Aer.get_backend('qasm_simulator')\n",
    "job = transpile(test_circuit, simulator)\n",
    "result = simulator.run(job, backend=simulator, shots=1024).result()\n",
    "counts = result.get_counts()\n",
    "plot_histogram([counts])"
   ]
  },
  {
   "cell_type": "markdown",
   "metadata": {},
   "source": [
    "### Real Quantum Computer"
   ]
  },
  {
   "cell_type": "code",
   "execution_count": 53,
   "metadata": {},
   "outputs": [],
   "source": [
    "from qiskit_ibm_runtime import QiskitRuntimeService"
   ]
  },
  {
   "cell_type": "code",
   "execution_count": null,
   "metadata": {},
   "outputs": [],
   "source": [
    "provider = QiskitRuntimeService(channel=\"ibm_quantum\")\n",
    "provider.backends()"
   ]
  },
  {
   "cell_type": "code",
   "execution_count": null,
   "metadata": {},
   "outputs": [],
   "source": [
    "for backend in provider.backends():\n",
    "    try:\n",
    "        qubit_count = len(backend.properties().qubits)\n",
    "    except:\n",
    "        qubit_count = \"simulated\"\n",
    "\n",
    "    print(f\"{backend.name} : {backend.status().pending_jobs} & {qubit_count} qubits\")"
   ]
  },
  {
   "cell_type": "code",
   "execution_count": 56,
   "metadata": {},
   "outputs": [],
   "source": [
    "from qiskit.transpiler.preset_passmanagers import generate_preset_pass_manager\n",
    "from qiskit_ibm_runtime import SamplerV2 as Sampler"
   ]
  },
  {
   "cell_type": "code",
   "execution_count": null,
   "metadata": {},
   "outputs": [],
   "source": [
    "provider = QiskitRuntimeService()\n",
    "quantum_computer = provider.backend(\"ibm_sherbrooke\")\n",
    "pm = generate_preset_pass_manager(backend=quantum_computer, optimization_level=1)\n",
    "isa_circuit = pm.run(test_circuit)\n",
    "sampler = Sampler(quantum_computer)\n",
    "job = sampler.run([isa_circuit])"
   ]
  },
  {
   "cell_type": "code",
   "execution_count": null,
   "metadata": {},
   "outputs": [],
   "source": [
    "job.status()"
   ]
  },
  {
   "cell_type": "code",
   "execution_count": null,
   "metadata": {},
   "outputs": [],
   "source": [
    "result = job.result()\n",
    "plot_histogram([result[0].data.meas.get_counts()])"
   ]
  },
  {
   "cell_type": "markdown",
   "metadata": {},
   "source": [
    "### Previous job result"
   ]
  },
  {
   "cell_type": "code",
   "execution_count": 58,
   "metadata": {},
   "outputs": [],
   "source": [
    "ibm_api_key_filepath = \"\"\n",
    "ibm_api_key = open(ibm_api_key_filepath,\"r\").read()"
   ]
  },
  {
   "cell_type": "code",
   "execution_count": 59,
   "metadata": {},
   "outputs": [],
   "source": [
    "from qiskit_ibm_runtime import QiskitRuntimeService\n",
    "\n",
    "service = QiskitRuntimeService(\n",
    "    channel = 'ibm_quantum',\n",
    "    instance = 'ibm-q/open/main',\n",
    "    token = ibm_api_key\n",
    ")"
   ]
  },
  {
   "cell_type": "code",
   "execution_count": 63,
   "metadata": {},
   "outputs": [],
   "source": [
    "job_id = \"\""
   ]
  },
  {
   "cell_type": "code",
   "execution_count": 64,
   "metadata": {},
   "outputs": [],
   "source": [
    "previous_job = service.job(job_id)\n",
    "previous_job_result = previous_job.result()"
   ]
  },
  {
   "cell_type": "code",
   "execution_count": null,
   "metadata": {},
   "outputs": [],
   "source": [
    "plot_histogram([previous_job_result[0].data.meas.get_counts()])"
   ]
  },
  {
   "cell_type": "code",
   "execution_count": null,
   "metadata": {},
   "outputs": [],
   "source": []
  }
 ],
 "metadata": {
  "kernelspec": {
   "display_name": ".venv_qiskit_testing",
   "language": "python",
   "name": ".venv_qiskit_testing"
  },
  "language_info": {
   "codemirror_mode": {
    "name": "ipython",
    "version": 3
   },
   "file_extension": ".py",
   "mimetype": "text/x-python",
   "name": "python",
   "nbconvert_exporter": "python",
   "pygments_lexer": "ipython3",
   "version": "3.10.0"
  }
 },
 "nbformat": 4,
 "nbformat_minor": 2
}
